{
 "cells": [
  {
   "cell_type": "code",
   "execution_count": null,
   "id": "3b0d484e-d175-44e7-8f2a-e531146fc5c5",
   "metadata": {},
   "outputs": [],
   "source": [
    "Q1. Create one variable containing following type of data:\n",
    "(i) string\n",
    "(ii) list\n",
    "(iii) float\n",
    "(iv) tuple"
   ]
  },
  {
   "cell_type": "code",
   "execution_count": null,
   "id": "b48b9e6b-c2e1-44ea-bcca-483970815ebd",
   "metadata": {},
   "outputs": [],
   "source": [
    "a=\"ruchi\"\n",
    "b=[1 2 3 4 5]\n",
    "c=3.33\n",
    "d=(1,2,-5)"
   ]
  },
  {
   "cell_type": "code",
   "execution_count": null,
   "id": "1af8891f-a467-4204-b089-22e6c468e80e",
   "metadata": {},
   "outputs": [],
   "source": [
    "Q2. Given are some following variables containing data:\n",
    "(i) var1 = ''\n",
    "(ii) var2 = ‘[ DS , ML , Python]’\n",
    "(iii) var3 = [ ‘DS’ , ’ML’ , ‘Python’ ]\n",
    "(iv) var4 = 1.\n",
    "What will be the data type of the above given variable."
   ]
  },
  {
   "cell_type": "code",
   "execution_count": 2,
   "id": "ae54c0be-89f2-4ce7-be4b-abbea26dcf92",
   "metadata": {},
   "outputs": [],
   "source": [
    "var1 = ''"
   ]
  },
  {
   "cell_type": "code",
   "execution_count": 3,
   "id": "e8440fb9-f0de-467c-8cfb-4d17c4f8653b",
   "metadata": {},
   "outputs": [
    {
     "data": {
      "text/plain": [
       "str"
      ]
     },
     "execution_count": 3,
     "metadata": {},
     "output_type": "execute_result"
    }
   ],
   "source": [
    "type(var1)\n"
   ]
  },
  {
   "cell_type": "code",
   "execution_count": 5,
   "id": "9840785b-6527-4096-9aa4-41aa5945626b",
   "metadata": {},
   "outputs": [],
   "source": [
    " var2 = '[ DS , ML , Python]'"
   ]
  },
  {
   "cell_type": "code",
   "execution_count": 6,
   "id": "2977aa06-77a3-4074-8003-ddddfca8bb81",
   "metadata": {},
   "outputs": [
    {
     "data": {
      "text/plain": [
       "str"
      ]
     },
     "execution_count": 6,
     "metadata": {},
     "output_type": "execute_result"
    }
   ],
   "source": [
    "type(var2)\n"
   ]
  },
  {
   "cell_type": "code",
   "execution_count": 7,
   "id": "d58a56e9-4c04-4643-aaa5-a2d4f2546631",
   "metadata": {},
   "outputs": [
    {
     "data": {
      "text/plain": [
       "int"
      ]
     },
     "execution_count": 7,
     "metadata": {},
     "output_type": "execute_result"
    }
   ],
   "source": [
    "var4=1\n",
    "type(var4)"
   ]
  },
  {
   "cell_type": "code",
   "execution_count": 9,
   "id": "18b27627-3215-459a-8a3c-9684c2ff819b",
   "metadata": {},
   "outputs": [
    {
     "data": {
      "text/plain": [
       "list"
      ]
     },
     "execution_count": 9,
     "metadata": {},
     "output_type": "execute_result"
    }
   ],
   "source": [
    "var3 = [ 'DS' , 'ML' , 'Python']\n",
    "type(var3)"
   ]
  },
  {
   "cell_type": "code",
   "execution_count": null,
   "id": "e70538b0-0863-4ff5-90c2-153c28441dcc",
   "metadata": {},
   "outputs": [],
   "source": [
    "var1 and var2 are string data type\n",
    "var3 is a list and var4 is a int data type"
   ]
  },
  {
   "cell_type": "code",
   "execution_count": null,
   "id": "80dbb555-d73b-4517-abb9-f2fc9c047bc9",
   "metadata": {},
   "outputs": [],
   "source": [
    "Q3. Explain the use of the following operators using an example:\n",
    "(i) /\n",
    "(ii) %\n",
    "(iii) //\n",
    "(iv) **"
   ]
  },
  {
   "cell_type": "code",
   "execution_count": 3,
   "id": "30ece2cf-a8d3-4829-b4fd-9fefc20bd674",
   "metadata": {},
   "outputs": [
    {
     "name": "stdout",
     "output_type": "stream",
     "text": [
      "2.0\n",
      "0\n",
      "2\n",
      "100000\n"
     ]
    }
   ],
   "source": [
    "a=10\n",
    "b=5\n",
    "print(a/b)\n",
    "print(a%b)\n",
    "print(a//b)\n",
    "print(a**b)"
   ]
  },
  {
   "cell_type": "code",
   "execution_count": null,
   "id": "0007831c-a91c-4237-b10c-a130125dde69",
   "metadata": {},
   "outputs": [],
   "source": [
    "Q4. Create a list of length 10 of your choice containing multiple types of data. Using for loop print the\n",
    "element and its data type."
   ]
  },
  {
   "cell_type": "code",
   "execution_count": 14,
   "id": "d4d79181-8515-4b7d-a8f5-74ac181824a5",
   "metadata": {},
   "outputs": [
    {
     "name": "stdout",
     "output_type": "stream",
     "text": [
      "1 <class 'int'>\n",
      "shaurya <class 'str'>\n",
      "bhavya <class 'str'>\n",
      "5.067 <class 'float'>\n",
      "999 <class 'int'>\n",
      "true <class 'str'>\n",
      "778 <class 'int'>\n",
      "900 <class 'int'>\n",
      "80.999 <class 'float'>\n",
      "dc <class 'str'>\n"
     ]
    }
   ],
   "source": [
    "l=[1,\"shaurya\",\"bhavya\",5.067,999,\"true\",778,900,80.999,\"dc\"]\n",
    "for i in range (0,len(l)):\n",
    "    print(l[i],type(l[i]))\n",
    "    \n"
   ]
  },
  {
   "cell_type": "code",
   "execution_count": null,
   "id": "f3d2619b-f097-43bb-be01-4404efbac414",
   "metadata": {},
   "outputs": [],
   "source": [
    "Q5. Using a while loop, verify if the number A is purely divisible by number B and if so then how many\n",
    "times it can be divisible."
   ]
  },
  {
   "cell_type": "code",
   "execution_count": 1,
   "id": "90cf04a6-c402-4956-b48a-32d60024adaf",
   "metadata": {},
   "outputs": [
    {
     "name": "stdout",
     "output_type": "stream",
     "text": [
      "not divisible\n"
     ]
    }
   ],
   "source": [
    "a=15\n",
    "b=5\n",
    "c=0\n",
    "if a/b==0:\n",
    "    while(b<=a):\n",
    "        c+=1\n",
    "        a/=b\n",
    "    c\n",
    "else:\n",
    "    print(\"not divisible\")"
   ]
  },
  {
   "cell_type": "code",
   "execution_count": null,
   "id": "e4b85692-af34-4aa1-b7a2-b56375090615",
   "metadata": {},
   "outputs": [],
   "source": [
    "Q6.Create a list containing 25 int type data. Using for loop and if-else condition print if the element is\n",
    "divisible by 3 or not."
   ]
  },
  {
   "cell_type": "code",
   "execution_count": 2,
   "id": "dfad0a99-11d0-4327-bde7-6062cd650164",
   "metadata": {},
   "outputs": [
    {
     "data": {
      "text/plain": [
       "[1, 2, 4, 5, 7, 8, 10, 11, 13, 14, 16, 17, 19, 20, 22, 23, 25]"
      ]
     },
     "execution_count": 2,
     "metadata": {},
     "output_type": "execute_result"
    }
   ],
   "source": [
    "l=[1,2,3,4,5,6,7,8,9,10,11,12,13,14,15,16,17,18,19,20,21,22,23,24,25]\n",
    "l1=[]\n",
    "l2=[]\n",
    "for i in l:\n",
    "   if i%3==0:\n",
    "      l1.append(i)\n",
    "   else:\n",
    "      l2.append(i)\n",
    "l1\n",
    "l2\n",
    "      \n",
    "   \n",
    "    "
   ]
  },
  {
   "cell_type": "code",
   "execution_count": null,
   "id": "a5818e14-24c0-48f7-9e2a-988399b7a8a3",
   "metadata": {},
   "outputs": [],
   "source": [
    "Q7. What do you understand about mutable and immutable data types? Give examples for both showing\n",
    "this property."
   ]
  },
  {
   "cell_type": "code",
   "execution_count": null,
   "id": "f7bf9a63-5878-4de7-83dc-bb3dbe201857",
   "metadata": {},
   "outputs": [],
   "source": [
    "Mutable objects in Python are those that can be changed after they are created, \n",
    "like lists or dictionaries. Immutable objects, on the other hand, cannot be changed \n",
    "after they are created, such as strings, integers, or tuples.\n",
    "\n",
    "examples:\n",
    "    \n"
   ]
  },
  {
   "cell_type": "code",
   "execution_count": 3,
   "id": "0dcc8cb7-1387-43b7-9c33-0eb91fa90437",
   "metadata": {},
   "outputs": [
    {
     "ename": "TypeError",
     "evalue": "'tuple' object does not support item assignment",
     "output_type": "error",
     "traceback": [
      "\u001b[0;31m---------------------------------------------------------------------------\u001b[0m",
      "\u001b[0;31mTypeError\u001b[0m                                 Traceback (most recent call last)",
      "Cell \u001b[0;32mIn[3], line 2\u001b[0m\n\u001b[1;32m      1\u001b[0m t1 \u001b[38;5;241m=\u001b[39m (\u001b[38;5;241m0\u001b[39m, \u001b[38;5;241m1\u001b[39m, \u001b[38;5;241m2\u001b[39m, \u001b[38;5;241m3\u001b[39m) \n\u001b[0;32m----> 2\u001b[0m \u001b[43mt1\u001b[49m\u001b[43m[\u001b[49m\u001b[38;5;241;43m0\u001b[39;49m\u001b[43m]\u001b[49m \u001b[38;5;241m=\u001b[39m \u001b[38;5;241m4\u001b[39m\n\u001b[1;32m      3\u001b[0m \u001b[38;5;28mprint\u001b[39m(t1)\n",
      "\u001b[0;31mTypeError\u001b[0m: 'tuple' object does not support item assignment"
     ]
    }
   ],
   "source": [
    "t1 = (0, 1, 2, 3) \n",
    "t1[0] = 4\n",
    "print(t1)"
   ]
  },
  {
   "cell_type": "code",
   "execution_count": 4,
   "id": "441c13c4-eb52-420e-996a-ed211329ea1a",
   "metadata": {},
   "outputs": [
    {
     "name": "stdout",
     "output_type": "stream",
     "text": [
      "[4, 1, 2, 3]\n"
     ]
    }
   ],
   "source": [
    "l1=[0,1,2,3]\n",
    "l1[0]=4\n",
    "print(l1)"
   ]
  },
  {
   "cell_type": "code",
   "execution_count": null,
   "id": "2e7b162c-f670-424c-a3e2-d44580b75e7a",
   "metadata": {},
   "outputs": [],
   "source": [
    "The above examples shows that tuples are immutable whereas lists are mutable."
   ]
  }
 ],
 "metadata": {
  "kernelspec": {
   "display_name": "Python 3 (ipykernel)",
   "language": "python",
   "name": "python3"
  },
  "language_info": {
   "codemirror_mode": {
    "name": "ipython",
    "version": 3
   },
   "file_extension": ".py",
   "mimetype": "text/x-python",
   "name": "python",
   "nbconvert_exporter": "python",
   "pygments_lexer": "ipython3",
   "version": "3.10.8"
  }
 },
 "nbformat": 4,
 "nbformat_minor": 5
}
